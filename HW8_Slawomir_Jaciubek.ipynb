{
  "nbformat": 4,
  "nbformat_minor": 0,
  "metadata": {
    "colab": {
      "provenance": []
    },
    "kernelspec": {
      "name": "python3",
      "display_name": "Python 3"
    },
    "language_info": {
      "name": "python"
    }
  },
  "cells": [
    {
      "cell_type": "markdown",
      "source": [
        "Task 1\n",
        "\n",
        "You are considering the possibility of investing in a startup company that is developing a new product in the market. You have two investment options: Option A and Option B.\n",
        "\n",
        "The probabilities (p) and cash flows (x, in thousands of dollars) are given under different scenarios:\n",
        "\n",
        "![image.png](data:image/png;base64,iVBORw0KGgoAAAANSUhEUgAAADcAAAAaCAIAAACci1P5AAAC1ElEQVRYCe2WsWvbQBTG86+8TaDBkEHgwZqiyUcGiy7ZDgw1GKJRFIwIFJHFdDCiULwEESgiYJAhoE1DQEtRhqAMRhmCMwQ8BA48HHhQOUlWFVtS3SBDA7nFx+nuez+9972TD6L3MA7eA2T0QVlfmT5y+X/nkth96E1JfZD76J5nC4Pm0hoh90A5v5S5M69WyA3KJ0ftCA2+IY/8xczSPiHUFhpNPL7bPejc7HDaTcn+ZWgNZNRGwqGgXAahZ5wcSagpnPwISg6kBcn3OPXOGppL/XNg40hzn9mmYCQCrzgvu1Xw3hBbRrAq2ryaW12kuYsoiqirsRAt3Xv2h20OANtsuXTkKImjMD8R5xQA0HiWnllcYQBQrtNuWNx5QbliMBLFUVAYjUx7mRPItcJiXITRbCwBcN0/kIX6OcoVJYRGK1/nAXjdX+fD/8YBAL6K0Yir8pxcVqBVYLRE474QMoqWTD4Z3lcA4PRfWztL9HOUyZEHEwHAIOvR0DxmisPbLcWtBXqjcR1zvrW+tRAYLYB/uQc2KZP64sm6qC92DwB4bYempd4ZJ1/uAMmuKoCsykkNt14lv7BBSd0BM4z5kO6JobkEej5ReqdYPNS9ZV5hPWcdga244dZL+V/qnzMHqg4hU/bizJTxCC/kxMoV+huU/pBnzYd/xil5tDAP0rnP7PRiK10rdDWOx3YRCovdt8s/OLHyYc9+DM0OC3ESh6AzE7d1f/kX/deUiSn7mt4WpGNJaGJ9GqaOX1GyXNh9EL+4RSjsq5jdA/kcZvP5RBGaEjqS1WkYXquIb0jHCHUNLzFXpf4rysWEGSZt50w+mzyaMkjDW0KzXs0e1fJVLNfPUyamLL1Kgu8idMbhrSEPCtOZIb9xUqGfo0xuyvILgjhqo4Xkz7r79EaO6mMV+iklcVRm6fWodlh1sH08zeVyH/I1aX5Q1pTIKNr4f1mfbr1KvwEs1nI/ECYyFQAAAABJRU5ErkJggg==)\n",
        "\n",
        "![image.png](data:image/png;base64,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)\n",
        "\n",
        "Which company, in terms of expected profitability (mathematical expectation), is more interesting with such data?"
      ],
      "metadata": {
        "id": "RSavkL5JgOV7"
      }
    },
    {
      "cell_type": "code",
      "execution_count": 23,
      "metadata": {
        "colab": {
          "base_uri": "https://localhost:8080/"
        },
        "id": "57_hyxH9gNgG",
        "outputId": "d4024f2f-e47f-4578-ede7-af842b8140fd"
      },
      "outputs": [
        {
          "output_type": "stream",
          "name": "stdout",
          "text": [
            "expected profitability A: 50.25\n",
            "\n",
            "expected profitability B: 45.5\n",
            "\n",
            "Conclusions: Option A is better than B because it gives a better profit\n"
          ]
        }
      ],
      "source": [
        "# The probabilities and cash flows for two options A and B\n",
        "probabil_A = [0.05, 0.25, 0.3, 0.4]\n",
        "cash_flows_A = [0, 25, 40, 80]\n",
        "\n",
        "probabil_B = [0.2, 0.25, 0.25, 0.3]\n",
        "cash_flows_B = [10, 30, 60, 70]\n",
        "\n",
        "# Function to calculate expected profitability\n",
        "def calc_expected_profit(probabil, cash_flows):\n",
        "    return sum(p * x for p, x in zip(probabil, cash_flows))\n",
        "\n",
        "# Calculating expected profitability for two options\n",
        "expected_profit_A = calc_expected_profit(probabil_A, cash_flows_A)\n",
        "expected_profit_B = calc_expected_profit(probabil_B, cash_flows_B)\n",
        "\n",
        "print(\"expected profitability A:\", expected_profit_A)\n",
        "\n",
        "print(\"\\nexpected profitability B:\", expected_profit_B)\n",
        "\n",
        "print(\"\\nConclusions: Option A is better than B because it gives a better profit\")"
      ]
    },
    {
      "cell_type": "markdown",
      "source": [
        "Task 2\n",
        "\n",
        "A consulting company has offered to take additional actions that will change the investment plan of company A. They will reduce the probability of Scenario 1 to 0 and increase the probability of Scenario 2 to 0.3. However, these measures will cost you 10,000 dollars. Is it worth agreeing to such a proposal?"
      ],
      "metadata": {
        "id": "62CeXfXhkTu2"
      }
    },
    {
      "cell_type": "code",
      "source": [
        "# Updated probabilities for Option A after consulting adjustments\n",
        "new_probabil_A = [0, 0.3, 0.3, 0.4]\n",
        "\n",
        "# Calculate expected profitability with new probabilities\n",
        "new_expected_profit_A = calc_expected_profit(new_probabil_A, cash_flows_A)\n",
        "\n",
        "# Changing scenarios with an additional cost of (10 000 dollars)\n",
        "new_expected_profit_A_adj = new_expected_profit_A - 10\n",
        "\n",
        "print(\"New expected profitability A adjusted:\", new_expected_profit_A_adj)\n",
        "\n",
        "print(\"\\nEarlier expected profitability A:\", expected_profit_A)\n",
        "\n",
        "print(\"\\nOryginal expacet profitability i better than new\")"
      ],
      "metadata": {
        "colab": {
          "base_uri": "https://localhost:8080/"
        },
        "id": "6FqS3Do9kVqH",
        "outputId": "02501268-6f8f-4a1a-dfe9-713a2037cd5a"
      },
      "execution_count": 24,
      "outputs": [
        {
          "output_type": "stream",
          "name": "stdout",
          "text": [
            "New expected profitability A adjusted: 41.5\n",
            "\n",
            "Earlier expected profitability A: 50.25\n",
            "\n",
            "Oryginal expacet profitability i better than new\n"
          ]
        }
      ]
    },
    {
      "cell_type": "markdown",
      "source": [
        "Task 3\n",
        "\n",
        "At the presentation, you were provided with a series of values for a certain function. According to the legend, these are independent evaluations. Should you trust the corresponding forecast?\n",
        "\n",
        "X = [11.3, 13.5, 9.76, 11.51, 11.1, 11.16, 12.83, 9.3, 12.99, 8.76, 9.17, 8.34, 15.23, 11.51, 10.76, 3.22, 8.86, 14.16, 7.27, 10.74, 9.8, 10.21, 8.7, 11.73, 10.78, 6.53, 9.03, 15.85, 6.55, 10.13, 9.07, 13.63, 10.92, 7.88, 4.85, 7.78, 10.95, 4.26, 9.59, 9.21, 8.96, 8.22, 13.36, 11.49, 11.43, 12.25, 16.3, 7.63, 10.45, 10.21, 6.1, 11.14, 10.94, 11.47, 12.06, 9.22, 11.36, 13.54, 9.54, 12.35, 14.11, 8.47, 15.37, 7.59, 4.25, 13.53, 9.2, 7.65, 3.37, 12.02, 12.37, 8.06, 8.06, 11.42, 7.36, 13.19, 13.09, 12.24, 10.78, 8.36, 12.37, 4.97, 10.46, 5.68, 8.98, 12.58, 11.0, 12.13, 10.83, 8.96, 12.02, 5.74, 12.7, 9.98, 12.44, 12.62, 11.06, 11.73, 10.69, 12.16]\n",
        "\n",
        "A. Performing the distribution of frequency for the variable X"
      ],
      "metadata": {
        "id": "-0zu8Z-rm_7n"
      }
    },
    {
      "cell_type": "code",
      "source": [
        "import matplotlib.pyplot as plt\n",
        "import numpy as np\n",
        "from scipy.stats import shapiro\n",
        "\n",
        "# values\n",
        "X = [11.3, 13.5, 9.76, 11.51, 11.1, 11.16, 12.83, 9.3, 12.99, 8.76, 9.17, 8.34, 15.23, 11.51, 10.76, 3.22, 8.86, 14.16, 7.27, 10.74,\n",
        "     9.8, 10.21, 8.7, 11.73, 10.78, 6.53, 9.03, 15.85, 6.55, 10.13, 9.07, 13.63, 10.92, 7.88, 4.85, 7.78, 10.95, 4.26, 9.59, 9.21,\n",
        "     8.96, 8.22, 13.36, 11.49, 11.43, 12.25, 16.3, 7.63, 10.45, 10.21, 6.1, 11.14, 10.94, 11.47, 12.06, 9.22, 11.36, 13.54, 9.54,\n",
        "     12.35, 14.11, 8.47, 15.37, 7.59, 4.25, 13.53, 9.2, 7.65, 3.37, 12.02, 12.37, 8.06, 8.06, 11.42, 7.36, 13.19, 13.09, 12.24,\n",
        "     10.78, 8.36, 12.37, 4.97, 10.46, 5.68, 8.98, 12.58, 11.0, 12.13, 10.83, 8.96, 12.02, 5.74, 12.7, 9.98, 12.44, 12.62, 11.06,\n",
        "     11.73, 10.69, 12.16]\n",
        "\n",
        "# Histogram to visualize the distribution\n",
        "plt.figure(figsize=(8, 4))\n",
        "plt.hist(X, bins=20, color='pink', edgecolor='black')\n",
        "plt.title('Distribution of Values')\n",
        "plt.xlabel('Values')\n",
        "plt.ylabel('Frequency')\n",
        "plt.grid(True)\n",
        "plt.show()\n",
        "\n",
        "# Performing a Shapiro-Wilk test to check for normality\n",
        "shapiro_test = shapiro(X)\n",
        "shapiro_test"
      ],
      "metadata": {
        "colab": {
          "base_uri": "https://localhost:8080/",
          "height": 427
        },
        "id": "iE1q3lu4nMY3",
        "outputId": "9ccfd6a7-2225-4a23-be8b-796a9596c918"
      },
      "execution_count": null,
      "outputs": [
        {
          "output_type": "display_data",
          "data": {
            "text/plain": [
              "<Figure size 800x400 with 1 Axes>"
            ],
            "image/png": "[encoded data removed]"
          },
          "metadata": {}
        },
        {
          "output_type": "execute_result",
          "data": {
            "text/plain": [
              "ShapiroResult(statistic=0.9798053503036499, pvalue=0.12837405502796173)"
            ]
          },
          "metadata": {},
          "execution_count": 24
        }
      ]
    },
    {
      "cell_type": "markdown",
      "source": [
        "1. Is the distribution normal?:\n",
        "\n",
        "Analyzing the histogram, we see that the data are distributed symmetrically with a central peak marked, which suggests that they may be close to a normal distribution.\n",
        "\n",
        "Using the Shapiro-Wilk test, the p-value is 0.128. If the p value is greater than 0.05, it can be assumed that the distribution is normal.\n",
        "\n",
        "The data appears to be normally distributed based on both the histogram and the Shapiro-Wilk test.\n",
        "\n",
        "2. Determining how much we can trust forecasts based on independent assessments and how they are distributed:\n",
        "\n",
        "Normality in the distribution of independent ratings suggests consistency and reliability in the data collection and analysis process, lending credibility to the results of predictions based on these values."
      ],
      "metadata": {
        "id": "DZzuTxejqwvl"
      }
    },
    {
      "cell_type": "markdown",
      "source": [
        "Task 4\n",
        "\n",
        "You are interested if the results could be manipulated: investigate whether this is feasible. Generate a normally distributed variable and change several indicators so that the series no longer passes the test for normal distribution.\n",
        "\n",
        "1) Generate a normally distributed variable with 100 elements. Refer to the notes “Probability Theory. Combinatorics”, section “Graphical Demonstration of Distribution Law.”\n",
        "\n",
        "2) Change a certain number of elements so that the distribution diagram resembles a normal distribution, but the test for normal distribution is not passed. If that is possible, then the data can be manipulated.\n"
      ],
      "metadata": {
        "id": "mmsJRFswtkT_"
      }
    },
    {
      "cell_type": "code",
      "source": [
        "import numpy as np\n",
        "import matplotlib.pyplot as plt\n",
        "from scipy.stats import shapiro\n",
        "\n",
        "# Calculate a normally distributed variable with 200 elements\n",
        "np.random.seed(30)\n",
        "normal_data = np.random.normal(loc=0, scale=1, size=200)\n",
        "\n",
        "# Change the data by adding extreme values to the first nine elements\n",
        "manipulated_data = normal_data.copy()\n",
        "manipulated_data[:9] += 9  # Adding extreme values to make the distribution non-normal\n",
        "\n",
        "# Shapiro-Wilk test for normality on both datasets\n",
        "_, p_value_original = shapiro(normal_data)\n",
        "_, p_value_manipulated = shapiro(manipulated_data)\n",
        "\n",
        "# Plotting the original data\n",
        "plt.figure(figsize=(6, 4))\n",
        "plt.hist(normal_data, bins=15, alpha=0.7, color='pink', edgecolor='black')\n",
        "plt.title(f'Original Data - Shapiro-Wilk Test p={p_value_original:.5f}')\n",
        "plt.xlabel('Value')\n",
        "plt.ylabel('Frequency')\n",
        "plt.grid(True)\n",
        "plt.show()\n",
        "\n",
        "# Plotting the manipulated data\n",
        "plt.figure(figsize=(6, 4))\n",
        "plt.hist(manipulated_data, bins=15, alpha=0.7, color='green', edgecolor='black')\n",
        "plt.title(f'Manipulated Data - Shapiro-Wilk Test p={p_value_manipulated:.5f}')\n",
        "plt.xlabel('Value')\n",
        "plt.ylabel('Frequency')\n",
        "plt.grid(True)\n",
        "plt.show()"
      ],
      "metadata": {
        "colab": {
          "base_uri": "https://localhost:8080/",
          "height": 803
        },
        "id": "YPvxTg_auLQT",
        "outputId": "8c055305-c73d-4d5c-8c02-13b2718ae0b4"
      },
      "execution_count": null,
      "outputs": [
        {
          "output_type": "display_data",
          "data": {
            "text/plain": [
              "<Figure size 600x400 with 1 Axes>"
            ],
            "image/png": "[encoded data removed]"
          },
          "metadata": {}
        },
        {
          "output_type": "display_data",
          "data": {
            "text/plain": [
              "<Figure size 600x400 with 1 Axes>"
            ],
            "image/png": "[encoded data removed]"
          },
          "metadata": {}
        }
      ]
    },
    {
      "cell_type": "markdown",
      "source": [
        "Conclusions: After making changes to the data, the p value dropped to 0, which means that the new distribution is no longer normal."
      ],
      "metadata": {
        "id": "b9xjWYFOw3Ah"
      }
    },
    {
      "cell_type": "markdown",
      "source": [
        "Task 5\n",
        "\n",
        "The company you decided to invest in is planned to be opened in Ukraine. Therefore, you turned to sociological research. The most important factor people value in society is the level of trust (question Q57 in World Values Survey Wave 7 (2017-2022)). Find at least one indicator that has a strong correlation with the trust indicator (Q57 Trust to people). Construct the distribution graph of this function.\n",
        "\n",
        "1) Familiarize yourself with the form used for the survey in Ukraine, and use the designated file separately.\n",
        "\n",
        "2) Find another set of data (another variable, that is, answer to another question) that, in your opinion, will have a correlation with the first set (trust indicator Q57). Check this by calculating the correlation coefficient. Refer to the notes “Mathematical Statistics”, section “Investigating the Relationship Between Variables. Correlation.”\n",
        "\n",
        "If there is no correlation, test another indicator. Find at least one indicator that has a strong correlation with the trust indicator.\n",
        "\n",
        "3) Calculate the variance and mathematical expectation for the data set you found (see the notes “Probability Theory. Combinatorics”, section “Numerical Characteristics of Random Variables”)\n",
        "\n",
        "4) Create a histogram of distribution and a theoretical curve of distribution based on the mathematical expectation and variance (notes “Mathematical Statistics”, section “Statistical Research”).\n",
        "\n",
        "5) Make conclusions about the normality of the distribution of the indicator found.\n"
      ],
      "metadata": {
        "id": "1GtyiWTzw5FT"
      }
    },
    {
      "cell_type": "markdown",
      "source": [
        "1) Familiarize yourself...\n",
        "\n",
        "2) Find another..."
      ],
      "metadata": {
        "id": "VMiZliMO3pYl"
      }
    },
    {
      "cell_type": "code",
      "source": [
        "import pandas as pd\n",
        "import io\n",
        "\n",
        "url = 'https://raw.githubusercontent.com/Jaciubek/goitneo-math-hw-8/main/mat_stat.csv'\n",
        "df = pd.read_csv(url, delimiter=';')\n",
        "df.head()"
      ],
      "metadata": {
        "colab": {
          "base_uri": "https://localhost:8080/",
          "height": 236
        },
        "id": "w0C7ehbe0SVN",
        "outputId": "784b18a3-eac7-4cf0-8ea9-2df80fd74ef7"
      },
      "execution_count": 11,
      "outputs": [
        {
          "output_type": "execute_result",
          "data": {
            "text/plain": [
              "              version                       doi  A_YEAR  B_COUNTRY  \\\n",
              "0  1-5-0 (2020-11-16)  doi.org/10.14281/18241.1    2020        804   \n",
              "1  1-5-0 (2020-11-16)  doi.org/10.14281/18241.1    2020        804   \n",
              "2  1-5-0 (2020-11-16)  doi.org/10.14281/18241.1    2020        804   \n",
              "3  1-5-0 (2020-11-16)  doi.org/10.14281/18241.1    2020        804   \n",
              "4  1-5-0 (2020-11-16)  doi.org/10.14281/18241.1    2020        804   \n",
              "\n",
              "  B_COUNTRY_ALPHA  C_COW_NUM C_COW_ALPHA  D_INTERVIEW  J_INTDATE  FW_START  \\\n",
              "0             UKR        369         UKR    804070001   20200725    202007   \n",
              "1             UKR        369         UKR    804070002   20200725    202007   \n",
              "2             UKR        369         UKR    804070003   20200725    202007   \n",
              "3             UKR        369         UKR    804070004   20200725    202007   \n",
              "4             UKR        369         UKR    804070005   20200725    202007   \n",
              "\n",
              "   ...  WEIGHT4A  WEIGHT4B  RESEMAVALBWGT  RESEMAVALWGT  SECVALBWGT  Y001_1  \\\n",
              "0  ...       1.0       1.0            1.0           1.0         1.0       1   \n",
              "1  ...       1.0       1.0            1.0           1.0         1.0       0   \n",
              "2  ...       1.0       1.0            1.0           1.0         1.0       0   \n",
              "3  ...       1.0       1.0            1.0           1.0         1.0       0   \n",
              "4  ...       1.0       1.0            1.0           1.0         1.0       0   \n",
              "\n",
              "   Y001_2  Y001_3  Y001_4  Y001_5  \n",
              "0       0       0       0       0  \n",
              "1       0       1       0       0  \n",
              "2       0       0       0       0  \n",
              "3       0       0       0       0  \n",
              "4       0       0       0       0  \n",
              "\n",
              "[5 rows x 416 columns]"
            ],
            "text/html": [
              "\n",
              "  <div id=\"df-6a20f707-6e30-42aa-a4d0-8d98d446fda8\" class=\"colab-df-container\">\n",
              "    <div>\n",
              "<style scoped>\n",
              "    .dataframe tbody tr th:only-of-type {\n",
              "        vertical-align: middle;\n",
              "    }\n",
              "\n",
              "    .dataframe tbody tr th {\n",
              "        vertical-align: top;\n",
              "    }\n",
              "\n",
              "    .dataframe thead th {\n",
              "        text-align: right;\n",
              "    }\n",
              "</style>\n",
              "<table border=\"1\" class=\"dataframe\">\n",
              "  <thead>\n",
              "    <tr style=\"text-align: right;\">\n",
              "      <th></th>\n",
              "      <th>version</th>\n",
              "      <th>doi</th>\n",
              "      <th>A_YEAR</th>\n",
              "      <th>B_COUNTRY</th>\n",
              "      <th>B_COUNTRY_ALPHA</th>\n",
              "      <th>C_COW_NUM</th>\n",
              "      <th>C_COW_ALPHA</th>\n",
              "      <th>D_INTERVIEW</th>\n",
              "      <th>J_INTDATE</th>\n",
              "      <th>FW_START</th>\n",
              "      <th>...</th>\n",
              "      <th>WEIGHT4A</th>\n",
              "      <th>WEIGHT4B</th>\n",
              "      <th>RESEMAVALBWGT</th>\n",
              "      <th>RESEMAVALWGT</th>\n",
              "      <th>SECVALBWGT</th>\n",
              "      <th>Y001_1</th>\n",
              "      <th>Y001_2</th>\n",
              "      <th>Y001_3</th>\n",
              "      <th>Y001_4</th>\n",
              "      <th>Y001_5</th>\n",
              "    </tr>\n",
              "  </thead>\n",
              "  <tbody>\n",
              "    <tr>\n",
              "      <th>0</th>\n",
              "      <td>1-5-0 (2020-11-16)</td>\n",
              "      <td>doi.org/10.14281/18241.1</td>\n",
              "      <td>2020</td>\n",
              "      <td>804</td>\n",
              "      <td>UKR</td>\n",
              "      <td>369</td>\n",
              "      <td>UKR</td>\n",
              "      <td>804070001</td>\n",
              "      <td>20200725</td>\n",
              "      <td>202007</td>\n",
              "      <td>...</td>\n",
              "      <td>1.0</td>\n",
              "      <td>1.0</td>\n",
              "      <td>1.0</td>\n",
              "      <td>1.0</td>\n",
              "      <td>1.0</td>\n",
              "      <td>1</td>\n",
              "      <td>0</td>\n",
              "      <td>0</td>\n",
              "      <td>0</td>\n",
              "      <td>0</td>\n",
              "    </tr>\n",
              "    <tr>\n",
              "      <th>1</th>\n",
              "      <td>1-5-0 (2020-11-16)</td>\n",
              "      <td>doi.org/10.14281/18241.1</td>\n",
              "      <td>2020</td>\n",
              "      <td>804</td>\n",
              "      <td>UKR</td>\n",
              "      <td>369</td>\n",
              "      <td>UKR</td>\n",
              "      <td>804070002</td>\n",
              "      <td>20200725</td>\n",
              "      <td>202007</td>\n",
              "      <td>...</td>\n",
              "      <td>1.0</td>\n",
              "      <td>1.0</td>\n",
              "      <td>1.0</td>\n",
              "      <td>1.0</td>\n",
              "      <td>1.0</td>\n",
              "      <td>0</td>\n",
              "      <td>0</td>\n",
              "      <td>1</td>\n",
              "      <td>0</td>\n",
              "      <td>0</td>\n",
              "    </tr>\n",
              "    <tr>\n",
              "      <th>2</th>\n",
              "      <td>1-5-0 (2020-11-16)</td>\n",
              "      <td>doi.org/10.14281/18241.1</td>\n",
              "      <td>2020</td>\n",
              "      <td>804</td>\n",
              "      <td>UKR</td>\n",
              "      <td>369</td>\n",
              "      <td>UKR</td>\n",
              "      <td>804070003</td>\n",
              "      <td>20200725</td>\n",
              "      <td>202007</td>\n",
              "      <td>...</td>\n",
              "      <td>1.0</td>\n",
              "      <td>1.0</td>\n",
              "      <td>1.0</td>\n",
              "      <td>1.0</td>\n",
              "      <td>1.0</td>\n",
              "      <td>0</td>\n",
              "      <td>0</td>\n",
              "      <td>0</td>\n",
              "      <td>0</td>\n",
              "      <td>0</td>\n",
              "    </tr>\n",
              "    <tr>\n",
              "      <th>3</th>\n",
              "      <td>1-5-0 (2020-11-16)</td>\n",
              "      <td>doi.org/10.14281/18241.1</td>\n",
              "      <td>2020</td>\n",
              "      <td>804</td>\n",
              "      <td>UKR</td>\n",
              "      <td>369</td>\n",
              "      <td>UKR</td>\n",
              "      <td>804070004</td>\n",
              "      <td>20200725</td>\n",
              "      <td>202007</td>\n",
              "      <td>...</td>\n",
              "      <td>1.0</td>\n",
              "      <td>1.0</td>\n",
              "      <td>1.0</td>\n",
              "      <td>1.0</td>\n",
              "      <td>1.0</td>\n",
              "      <td>0</td>\n",
              "      <td>0</td>\n",
              "      <td>0</td>\n",
              "      <td>0</td>\n",
              "      <td>0</td>\n",
              "    </tr>\n",
              "    <tr>\n",
              "      <th>4</th>\n",
              "      <td>1-5-0 (2020-11-16)</td>\n",
              "      <td>doi.org/10.14281/18241.1</td>\n",
              "      <td>2020</td>\n",
              "      <td>804</td>\n",
              "      <td>UKR</td>\n",
              "      <td>369</td>\n",
              "      <td>UKR</td>\n",
              "      <td>804070005</td>\n",
              "      <td>20200725</td>\n",
              "      <td>202007</td>\n",
              "      <td>...</td>\n",
              "      <td>1.0</td>\n",
              "      <td>1.0</td>\n",
              "      <td>1.0</td>\n",
              "      <td>1.0</td>\n",
              "      <td>1.0</td>\n",
              "      <td>0</td>\n",
              "      <td>0</td>\n",
              "      <td>0</td>\n",
              "      <td>0</td>\n",
              "      <td>0</td>\n",
              "    </tr>\n",
              "  </tbody>\n",
              "</table>\n",
              "<p>5 rows × 416 columns</p>\n",
              "</div>\n",
              "    <div class=\"colab-df-buttons\">\n",
              "\n",
              "  <div class=\"colab-df-container\">\n",
              "    <button class=\"colab-df-convert\" onclick=\"convertToInteractive('df-6a20f707-6e30-42aa-a4d0-8d98d446fda8')\"\n",
              "            title=\"Convert this dataframe to an interactive table.\"\n",
              "            style=\"display:none;\">\n",
              "\n",
              "  <svg xmlns=\"http://www.w3.org/2000/svg\" height=\"24px\" viewBox=\"0 -960 960 960\">\n",
              "    <path d=\"M120-120v-720h720v720H120Zm60-500h600v-160H180v160Zm220 220h160v-160H400v160Zm0 220h160v-160H400v160ZM180-400h160v-160H180v160Zm440 0h160v-160H620v160ZM180-180h160v-160H180v160Zm440 0h160v-160H620v160Z\"/>\n",
              "  </svg>\n",
              "    </button>\n",
              "\n",
              "  <style>\n",
              "    .colab-df-container {\n",
              "      display:flex;\n",
              "      gap: 12px;\n",
              "    }\n",
              "\n",
              "    .colab-df-convert {\n",
              "      background-color: #E8F0FE;\n",
              "      border: none;\n",
              "      border-radius: 50%;\n",
              "      cursor: pointer;\n",
              "      display: none;\n",
              "      fill: #1967D2;\n",
              "      height: 32px;\n",
              "      padding: 0 0 0 0;\n",
              "      width: 32px;\n",
              "    }\n",
              "\n",
              "    .colab-df-convert:hover {\n",
              "      background-color: #E2EBFA;\n",
              "      box-shadow: 0px 1px 2px rgba(60, 64, 67, 0.3), 0px 1px 3px 1px rgba(60, 64, 67, 0.15);\n",
              "      fill: #174EA6;\n",
              "    }\n",
              "\n",
              "    .colab-df-buttons div {\n",
              "      margin-bottom: 4px;\n",
              "    }\n",
              "\n",
              "    [theme=dark] .colab-df-convert {\n",
              "      background-color: #3B4455;\n",
              "      fill: #D2E3FC;\n",
              "    }\n",
              "\n",
              "    [theme=dark] .colab-df-convert:hover {\n",
              "      background-color: #434B5C;\n",
              "      box-shadow: 0px 1px 3px 1px rgba(0, 0, 0, 0.15);\n",
              "      filter: drop-shadow(0px 1px 2px rgba(0, 0, 0, 0.3));\n",
              "      fill: #FFFFFF;\n",
              "    }\n",
              "  </style>\n",
              "\n",
              "    <script>\n",
              "      const buttonEl =\n",
              "        document.querySelector('#df-6a20f707-6e30-42aa-a4d0-8d98d446fda8 button.colab-df-convert');\n",
              "      buttonEl.style.display =\n",
              "        google.colab.kernel.accessAllowed ? 'block' : 'none';\n",
              "\n",
              "      async function convertToInteractive(key) {\n",
              "        const element = document.querySelector('#df-6a20f707-6e30-42aa-a4d0-8d98d446fda8');\n",
              "        const dataTable =\n",
              "          await google.colab.kernel.invokeFunction('convertToInteractive',\n",
              "                                                    [key], {});\n",
              "        if (!dataTable) return;\n",
              "\n",
              "        const docLinkHtml = 'Like what you see? Visit the ' +\n",
              "          '<a target=\"_blank\" href=https://colab.research.google.com/notebooks/data_table.ipynb>data table notebook</a>'\n",
              "          + ' to learn more about interactive tables.';\n",
              "        element.innerHTML = '';\n",
              "        dataTable['output_type'] = 'display_data';\n",
              "        await google.colab.output.renderOutput(dataTable, element);\n",
              "        const docLink = document.createElement('div');\n",
              "        docLink.innerHTML = docLinkHtml;\n",
              "        element.appendChild(docLink);\n",
              "      }\n",
              "    </script>\n",
              "  </div>\n",
              "\n",
              "\n",
              "<div id=\"df-633f5fc7-5dbd-461c-a79f-a8b242ecc755\">\n",
              "  <button class=\"colab-df-quickchart\" onclick=\"quickchart('df-633f5fc7-5dbd-461c-a79f-a8b242ecc755')\"\n",
              "            title=\"Suggest charts\"\n",
              "            style=\"display:none;\">\n",
              "\n",
              "<svg xmlns=\"http://www.w3.org/2000/svg\" height=\"24px\"viewBox=\"0 0 24 24\"\n",
              "     width=\"24px\">\n",
              "    <g>\n",
              "        <path d=\"M19 3H5c-1.1 0-2 .9-2 2v14c0 1.1.9 2 2 2h14c1.1 0 2-.9 2-2V5c0-1.1-.9-2-2-2zM9 17H7v-7h2v7zm4 0h-2V7h2v10zm4 0h-2v-4h2v4z\"/>\n",
              "    </g>\n",
              "</svg>\n",
              "  </button>\n",
              "\n",
              "<style>\n",
              "  .colab-df-quickchart {\n",
              "      --bg-color: #E8F0FE;\n",
              "      --fill-color: #1967D2;\n",
              "      --hover-bg-color: #E2EBFA;\n",
              "      --hover-fill-color: #174EA6;\n",
              "      --disabled-fill-color: #AAA;\n",
              "      --disabled-bg-color: #DDD;\n",
              "  }\n",
              "\n",
              "  [theme=dark] .colab-df-quickchart {\n",
              "      --bg-color: #3B4455;\n",
              "      --fill-color: #D2E3FC;\n",
              "      --hover-bg-color: #434B5C;\n",
              "      --hover-fill-color: #FFFFFF;\n",
              "      --disabled-bg-color: #3B4455;\n",
              "      --disabled-fill-color: #666;\n",
              "  }\n",
              "\n",
              "  .colab-df-quickchart {\n",
              "    background-color: var(--bg-color);\n",
              "    border: none;\n",
              "    border-radius: 50%;\n",
              "    cursor: pointer;\n",
              "    display: none;\n",
              "    fill: var(--fill-color);\n",
              "    height: 32px;\n",
              "    padding: 0;\n",
              "    width: 32px;\n",
              "  }\n",
              "\n",
              "  .colab-df-quickchart:hover {\n",
              "    background-color: var(--hover-bg-color);\n",
              "    box-shadow: 0 1px 2px rgba(60, 64, 67, 0.3), 0 1px 3px 1px rgba(60, 64, 67, 0.15);\n",
              "    fill: var(--button-hover-fill-color);\n",
              "  }\n",
              "\n",
              "  .colab-df-quickchart-complete:disabled,\n",
              "  .colab-df-quickchart-complete:disabled:hover {\n",
              "    background-color: var(--disabled-bg-color);\n",
              "    fill: var(--disabled-fill-color);\n",
              "    box-shadow: none;\n",
              "  }\n",
              "\n",
              "  .colab-df-spinner {\n",
              "    border: 2px solid var(--fill-color);\n",
              "    border-color: transparent;\n",
              "    border-bottom-color: var(--fill-color);\n",
              "    animation:\n",
              "      spin 1s steps(1) infinite;\n",
              "  }\n",
              "\n",
              "  @keyframes spin {\n",
              "    0% {\n",
              "      border-color: transparent;\n",
              "      border-bottom-color: var(--fill-color);\n",
              "      border-left-color: var(--fill-color);\n",
              "    }\n",
              "    20% {\n",
              "      border-color: transparent;\n",
              "      border-left-color: var(--fill-color);\n",
              "      border-top-color: var(--fill-color);\n",
              "    }\n",
              "    30% {\n",
              "      border-color: transparent;\n",
              "      border-left-color: var(--fill-color);\n",
              "      border-top-color: var(--fill-color);\n",
              "      border-right-color: var(--fill-color);\n",
              "    }\n",
              "    40% {\n",
              "      border-color: transparent;\n",
              "      border-right-color: var(--fill-color);\n",
              "      border-top-color: var(--fill-color);\n",
              "    }\n",
              "    60% {\n",
              "      border-color: transparent;\n",
              "      border-right-color: var(--fill-color);\n",
              "    }\n",
              "    80% {\n",
              "      border-color: transparent;\n",
              "      border-right-color: var(--fill-color);\n",
              "      border-bottom-color: var(--fill-color);\n",
              "    }\n",
              "    90% {\n",
              "      border-color: transparent;\n",
              "      border-bottom-color: var(--fill-color);\n",
              "    }\n",
              "  }\n",
              "</style>\n",
              "\n",
              "  <script>\n",
              "    async function quickchart(key) {\n",
              "      const quickchartButtonEl =\n",
              "        document.querySelector('#' + key + ' button');\n",
              "      quickchartButtonEl.disabled = true;  // To prevent multiple clicks.\n",
              "      quickchartButtonEl.classList.add('colab-df-spinner');\n",
              "      try {\n",
              "        const charts = await google.colab.kernel.invokeFunction(\n",
              "            'suggestCharts', [key], {});\n",
              "      } catch (error) {\n",
              "        console.error('Error during call to suggestCharts:', error);\n",
              "      }\n",
              "      quickchartButtonEl.classList.remove('colab-df-spinner');\n",
              "      quickchartButtonEl.classList.add('colab-df-quickchart-complete');\n",
              "    }\n",
              "    (() => {\n",
              "      let quickchartButtonEl =\n",
              "        document.querySelector('#df-633f5fc7-5dbd-461c-a79f-a8b242ecc755 button');\n",
              "      quickchartButtonEl.style.display =\n",
              "        google.colab.kernel.accessAllowed ? 'block' : 'none';\n",
              "    })();\n",
              "  </script>\n",
              "</div>\n",
              "    </div>\n",
              "  </div>\n"
            ],
            "application/vnd.google.colaboratory.intrinsic+json": {
              "type": "dataframe",
              "variable_name": "df"
            }
          },
          "metadata": {},
          "execution_count": 11
        }
      ]
    },
    {
      "cell_type": "code",
      "source": [
        "#Extract Q57 and Q61 columns for correlation analysis\n",
        "q57_q61_df = df[[\"Q57\", \"Q61\"]]\n",
        "\n",
        "# Remove those rows where column values are missing in order to calculate the exact correlation\n",
        "q57_q61_df = q57_q61_df.dropna()\n",
        "\n",
        "# Calculate the correlation coefficient between Q57 and Q61\n",
        "correlation_coefficient_corrected = q57_q61_df.corr().iloc[0, 1]\n",
        "print(\"Correlation coefficient between Q57 and Q61 is\", correlation_coefficient_corrected)"
      ],
      "metadata": {
        "colab": {
          "base_uri": "https://localhost:8080/"
        },
        "id": "BfZDfZ-N19KO",
        "outputId": "1fa1b0ba-93cd-4fff-811c-ea54cea22c78"
      },
      "execution_count": 12,
      "outputs": [
        {
          "output_type": "stream",
          "name": "stdout",
          "text": [
            "Correlation coefficient between Q57 and Q61 is 0.23952223207443898\n"
          ]
        }
      ]
    },
    {
      "cell_type": "markdown",
      "source": [
        "3) Calculate the variance..."
      ],
      "metadata": {
        "id": "2pdDcat33OIn"
      }
    },
    {
      "cell_type": "code",
      "source": [
        "# Calculate the variance and mean (mathematical expectation) for Q61\n",
        "variance_q61 = q57_q61_df[\"Q61\"].var()\n",
        "mean_q61 = q57_q61_df[\"Q61\"].mean()\n",
        "\n",
        "print(f\"For the dataset Q61, the variance is approximately {variance_q61:.4f}\")\n",
        "print(f\"The mathematical expectation (mean) is approximately {mean_q61:.4f}.\")"
      ],
      "metadata": {
        "colab": {
          "base_uri": "https://localhost:8080/"
        },
        "id": "Lg_Btay33K54",
        "outputId": "d2bceedd-0f66-4add-dfd0-d57540403087"
      },
      "execution_count": 13,
      "outputs": [
        {
          "output_type": "stream",
          "name": "stdout",
          "text": [
            "For the dataset Q61, the variance is approximately 1.4697\n",
            "The mathematical expectation (mean) is approximately 2.7145.\n"
          ]
        }
      ]
    },
    {
      "cell_type": "markdown",
      "source": [
        "4) Create a histogram of distribution..."
      ],
      "metadata": {
        "id": "p3XuSg2S5CxY"
      }
    },
    {
      "cell_type": "code",
      "source": [
        "import matplotlib.pyplot as plt\n",
        "import numpy as np\n",
        "import scipy.stats as stats\n",
        "\n",
        "# Data for Q61\n",
        "df_q61 = q57_q61_df[\"Q61\"]\n",
        "\n",
        "# Histogram of the data\n",
        "plt.hist(df_q61, bins=30, alpha=0.7, label='Q61 Data', color='black', density=True)\n",
        "\n",
        "# Theoretical normal distribution curve based on the calculated mean and variance\n",
        "xmin, xmax = plt.xlim()\n",
        "x = np.linspace(xmin, xmax, 100)\n",
        "p = stats.norm.pdf(x, mean_q61, np.sqrt(variance_q61))\n",
        "plt.plot(x, p, 'k', linewidth=2, color='red', label='Theoretical Normal Curve')\n",
        "\n",
        "title = \"Histogram and Theoretical Normal Curve for Q61\"\n",
        "plt.title(title)\n",
        "plt.xlabel(\"Value\")\n",
        "plt.ylabel(\"Density\")\n",
        "plt.legend()\n",
        "plt.grid(True)\n",
        "plt.show()"
      ],
      "metadata": {
        "colab": {
          "base_uri": "https://localhost:8080/",
          "height": 507
        },
        "id": "zVTG-av25Ivr",
        "outputId": "2ade6220-0a0d-41bd-dc15-5cbbb02d55ba"
      },
      "execution_count": 21,
      "outputs": [
        {
          "output_type": "stream",
          "name": "stderr",
          "text": [
            "<ipython-input-21-e8624638fd9f>:15: UserWarning: color is redundantly defined by the 'color' keyword argument and the fmt string \"k\" (-> color=(0.0, 0.0, 0.0, 1)). The keyword argument will take precedence.\n",
            "  plt.plot(x, p, 'k', linewidth=2, color='red', label='Theoretical Normal Curve')\n"
          ]
        },
        {
          "output_type": "display_data",
          "data": {
            "text/plain": [
              "<Figure size 640x480 with 1 Axes>"
            ],
            "image/png": "[encoded data removed]"
          },
          "metadata": {}
        }
      ]
    },
    {
      "cell_type": "markdown",
      "source": [
        "Conclusions:\n",
        "\n",
        "Based on the histogram and the theoretical normal distribution curve, it can be suspected that the Q61 data may not be normally distributed. The distribution does not perfectly match the theoretical curve, which indicates deviations from normality."
      ],
      "metadata": {
        "id": "lJadK4WXhtRV"
      }
    }
  ]
}